{
 "cells": [
  {
   "cell_type": "code",
   "execution_count": 1,
   "metadata": {
    "collapsed": true
   },
   "outputs": [],
   "source": [
    "#%matplotlib inline"
   ]
  },
  {
   "cell_type": "code",
   "execution_count": 2,
   "metadata": {
    "collapsed": true
   },
   "outputs": [],
   "source": [
    "from pylab import *\n",
    "import matplotlib.pyplot as plt\n",
    "import numpy"
   ]
  },
  {
   "cell_type": "code",
   "execution_count": 3,
   "metadata": {
    "collapsed": false
   },
   "outputs": [],
   "source": [
    "data = numpy.loadtxt('shares_latency_all.csv', skiprows=1, delimiter=',', usecols=(0,1))"
   ]
  },
  {
   "cell_type": "code",
   "execution_count": 4,
   "metadata": {
    "collapsed": true
   },
   "outputs": [],
   "source": [
    "def latency(data, i):\n",
    "    return np.array(map(lambda x: x[1], filter(lambda x: x[0] == i, data))).astype(float)"
   ]
  },
  {
   "cell_type": "markdown",
   "metadata": {},
   "source": [
    "Histogram\n",
    "---"
   ]
  },
  {
   "cell_type": "code",
   "execution_count": 5,
   "metadata": {
    "collapsed": false
   },
   "outputs": [],
   "source": [
    "fig, ax = plt.subplots()\n",
    "ax.set_ylabel('Number')\n",
    "ax.set_xlabel('Blocks found (%)')\n",
    "n, bins, patches = plt.hist( [latency(data, 1), latency(data, 20)], 10, rwidth=1, histtype='bar', label=['1 latency', '20 latency'])\n",
    "plt.legend()\n",
    "plt.xticks(bins, map(lambda x: round(x, 2), bins))\n",
    "plt.tick_params('x', length=20, width=2, which='major', top='off', direction='inout', pad=15)\n",
    "plt.axvline(latency(data, 1).mean(), color='k', linestyle='dashed', linewidth=2)\n",
    "plt.axvline(latency(data, 20).mean(), color='k', linestyle='dashed', linewidth=2)\n",
    "plt.title('Block shares histogram',fontsize=20)\n",
    "plt.gca().set_position((.1, .3, .8, .6))\n",
    "text = \"Fully connected network of one 30% miner and seven 10% miners.\\n\\\n",
    "1000 simulations of 6 months per condition: either all blocks have 1 latency or 20 latency.\\n\\\n",
    "Plot shows the distribution of the fraction of blocks in the main chain that were\\nfrom the big miner.\"\n",
    "figtext(.02, .04, text)\n",
    "plt.savefig('plots/histogram.png', dpi=200)\n",
    "plt.clf()"
   ]
  },
  {
   "cell_type": "markdown",
   "metadata": {},
   "source": [
    "Varying Latencies\n",
    "---"
   ]
  },
  {
   "cell_type": "code",
   "execution_count": 6,
   "metadata": {
    "collapsed": false
   },
   "outputs": [],
   "source": [
    "plt.boxplot([latency(data, 1), latency(data, 5), latency(data, 10), latency(data, 20), latency(data, 30)])\n",
    "plt.ylabel('Blocks found (%)')\n",
    "plt.xlabel('Latency')\n",
    "plt.xticks([1,2,3,4, 5],('1', '5', '10', '20', '30'))\n",
    "plt.title('Block shares for varying latencies',fontsize=20)\n",
    "plt.gca().set_position((.1, .3, .8, .6))\n",
    "text = \"Fully connected network of one 30% miner and seven 10% miners.\\n\\\n",
    "1000 simulations of 6 months per latency condition.\\n\\\n",
    "Boxplot shows the fraction of blocks in the main chain that were from the big miner.\"\n",
    "figtext(.02, .06, text)\n",
    "plt.savefig('plots/varying_latencies.png', dpi=200)\n",
    "plt.clf()"
   ]
  },
  {
   "cell_type": "markdown",
   "metadata": {
    "collapsed": true
   },
   "source": [
    "Realistic Hashrates\n",
    "---"
   ]
  },
  {
   "cell_type": "code",
   "execution_count": 7,
   "metadata": {
    "collapsed": false
   },
   "outputs": [],
   "source": [
    "data = numpy.loadtxt('shares_latency_realistic.csv', skiprows=1, delimiter=',', usecols=(0,1,2))"
   ]
  },
  {
   "cell_type": "code",
   "execution_count": 8,
   "metadata": {
    "collapsed": false
   },
   "outputs": [],
   "source": [
    "meanNormal = {}\n",
    "meanLatency = {}\n",
    "for miner in data:\n",
    "    d = meanNormal\n",
    "    if miner[0] == 20:\n",
    "        d = meanLatency\n",
    "    if miner[1] in d:\n",
    "        d[miner[1]] = np.append(d[miner[1]], [miner[2]])\n",
    "    else: \n",
    "        d[miner[1]] = np.array([miner[2]])\n",
    "\n",
    "x = map(lambda hashrate: (meanLatency[hashrate].mean() - meanNormal[hashrate].mean())*100/meanNormal[hashrate].mean(), [5, 10, 20])\n",
    "std = map(lambda hashrate: (meanLatency[hashrate]- meanNormal[hashrate].mean()).std(), [5, 10, 20])\n",
    "fig, ax = plt.subplots()\n",
    "ax.set_ylabel('Blocks found (% change)')\n",
    "ax.set_xlabel('Hashrate (%)')\n",
    "width = 1\n",
    "rects1 = ax.bar([0, 1], x[0:2], width, color='r', yerr=std[0:2], error_kw=dict(ecolor='k', lw=1, capsize=5, capthick=1))\n",
    "rects1 = ax.bar([2], x[2], width, color='g', yerr=std[2], error_kw=dict(ecolor='k', lw=1, capsize=5, capthick=1))\n",
    "plt.xticks([width/2.0,1+width/2.0,2+width/2.0], ('5', '10', '20'))\n",
    "plt.title('Change in block shares (1 vs 20 latency)',fontsize=20)\n",
    "plt.gca().set_position((.1, .3, .8, .6))\n",
    "text = \"Fully connected network of two 20% miners, three 10% miners and six 5% miners.\\n\\\n",
    "1000 simulations of 6 months.\\n\\\n",
    "Plot shows for each miner group the percentual difference between block shares in the 1\\nand 20 latency condition.\\\n",
    " Error bars indicate standard deviation.\"\n",
    "figtext(.02, .06, text)\n",
    "plt.savefig('plots/realistic_hashrates.png', dpi=200)\n",
    "plt.clf()"
   ]
  },
  {
   "cell_type": "code",
   "execution_count": null,
   "metadata": {
    "collapsed": true
   },
   "outputs": [],
   "source": []
  }
 ],
 "metadata": {
  "kernelspec": {
   "display_name": "Python 2",
   "language": "python",
   "name": "python2"
  },
  "language_info": {
   "codemirror_mode": {
    "name": "ipython",
    "version": 2
   },
   "file_extension": ".py",
   "mimetype": "text/x-python",
   "name": "python",
   "nbconvert_exporter": "python",
   "pygments_lexer": "ipython2",
   "version": "2.7.9"
  }
 },
 "nbformat": 4,
 "nbformat_minor": 0
}
