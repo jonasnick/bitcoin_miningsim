{
 "cells": [
  {
   "cell_type": "code",
   "execution_count": 2,
   "metadata": {
    "collapsed": true
   },
   "outputs": [],
   "source": [
    "#%matplotlib inline"
   ]
  },
  {
   "cell_type": "code",
   "execution_count": 3,
   "metadata": {
    "collapsed": true
   },
   "outputs": [],
   "source": [
    "from pylab import *\n",
    "import matplotlib.pyplot as plt\n",
    "import numpy"
   ]
  },
  {
   "cell_type": "code",
   "execution_count": 4,
   "metadata": {
    "collapsed": false
   },
   "outputs": [],
   "source": [
    "data = numpy.loadtxt('shares_latency_all.csv', skiprows=1, delimiter=',', usecols=(0,1))"
   ]
  },
  {
   "cell_type": "code",
   "execution_count": 5,
   "metadata": {
    "collapsed": true
   },
   "outputs": [],
   "source": [
    "def latency(data, i):\n",
    "    return np.array(map(lambda x: x[1], filter(lambda x: x[0] == i, data))).astype(float)"
   ]
  },
  {
   "cell_type": "markdown",
   "metadata": {},
   "source": [
    "Histogram\n",
    "---"
   ]
  },
  {
   "cell_type": "code",
   "execution_count": 6,
   "metadata": {
    "collapsed": false
   },
   "outputs": [],
   "source": [
    "def histogram(data, filename, caption):\n",
    "    fig, ax = plt.subplots()\n",
    "    ax.set_ylabel('Number')\n",
    "    ax.set_xlabel('Blocks found (%)')\n",
    "    n, bins, patches = plt.hist( [latency(data, 1), latency(data, 20)], 10, rwidth=1, histtype='bar', label=['1 latency', '20 latency'])\n",
    "    plt.legend()\n",
    "    plt.xticks(bins, map(lambda x: round(x, 2), bins))\n",
    "    plt.tick_params('x', length=20, width=2, which='major', top='off', direction='inout', pad=15)\n",
    "    plt.axvline(latency(data, 1).mean(), color='k', linestyle='dashed', linewidth=2)\n",
    "    plt.axvline(latency(data, 20).mean(), color='k', linestyle='dashed', linewidth=2)\n",
    "    plt.title('Block shares histogram',fontsize=20)\n",
    "    plt.gca().set_position((.1, .3, .8, .6))\n",
    "    figtext(.02, .01, caption)\n",
    "    plt.savefig(filename, dpi=200)\n",
    "    plt.clf()\n",
    "caption = \"Fully connected network of one 30% miner and seven 10% miners.\\n\\\n",
    "1000 simulations of 6 months per condition: either all blocks have 1 latency or 20 latency.\\n\\\n",
    "Plot shows the distribution of the fraction of blocks in the main chain that were\\nfrom the big miner.\"\n",
    "histogram(data, 'plots/histogram.png', caption)"
   ]
  },
  {
   "cell_type": "markdown",
   "metadata": {},
   "source": [
    "Varying Latencies\n",
    "---"
   ]
  },
  {
   "cell_type": "code",
   "execution_count": 7,
   "metadata": {
    "collapsed": false
   },
   "outputs": [],
   "source": [
    "def varying_latencies(data, filename, caption):\n",
    "    plt.boxplot([latency(data, 1), latency(data, 5), latency(data, 10), latency(data, 20), latency(data, 30)])\n",
    "    plt.ylabel('Blocks found (%)')\n",
    "    plt.xlabel('Latency')\n",
    "    plt.xticks([1,2,3,4, 5],('1', '5', '10', '20', '30'))\n",
    "    plt.title('Block shares for varying latencies',fontsize=20)\n",
    "    plt.gca().set_position((.1, .3, .8, .6))\n",
    "    figtext(.02, .04, caption)\n",
    "    plt.savefig(filename, dpi=200)\n",
    "    plt.clf()\n",
    "caption = \"Fully connected network of one 30% miner and seven 10% miners.\\n\\\n",
    "1000 simulations of 6 months per latency condition.\\n\\\n",
    "Boxplot shows the fraction of blocks in the main chain that were from the big miner.\"\n",
    "varying_latencies(data, 'plots/varying_latencies.png', caption)"
   ]
  },
  {
   "cell_type": "markdown",
   "metadata": {
    "collapsed": true
   },
   "source": [
    "Realistic Hashrates\n",
    "---"
   ]
  },
  {
   "cell_type": "code",
   "execution_count": 8,
   "metadata": {
    "collapsed": false
   },
   "outputs": [],
   "source": [
    "data = numpy.loadtxt('shares_latency_realistic.csv', skiprows=1, delimiter=',', usecols=(0,1,2))"
   ]
  },
  {
   "cell_type": "code",
   "execution_count": 9,
   "metadata": {
    "collapsed": false
   },
   "outputs": [],
   "source": [
    "def realistic_hashrates(data, filename, caption):\n",
    "    meanNormal = {}\n",
    "    meanLatency = {}\n",
    "    for miner in data:\n",
    "        d = meanNormal\n",
    "        if miner[0] == 20:\n",
    "            d = meanLatency\n",
    "        if miner[1] in d:\n",
    "            d[miner[1]] = np.append(d[miner[1]], [miner[2]])\n",
    "        else: \n",
    "            d[miner[1]] = np.array([miner[2]])\n",
    "\n",
    "    x = map(lambda hashrate: (meanLatency[hashrate].mean() - meanNormal[hashrate].mean())*100/meanNormal[hashrate].mean(), [5, 10, 20])\n",
    "    std = map(lambda hashrate: (meanLatency[hashrate]- meanNormal[hashrate].mean()).std(), [5, 10, 20])\n",
    "    fig, ax = plt.subplots()\n",
    "    ax.set_ylabel('Blocks found (% change)')\n",
    "    ax.set_xlabel('Hashrate (%)')\n",
    "    width = 1\n",
    "    for i in range(3):\n",
    "        rects1 = ax.bar([i], x[i], width, color='r' if x[i] < 0 else 'g', yerr=std[i], error_kw=dict(ecolor='k', lw=1, capsize=5, capthick=1))\n",
    "    #rects1 = ax.bar([1], x[1], width, color='r', yerr=std[1], error_kw=dict(ecolor='k', lw=1, capsize=5, capthick=1))\n",
    "    #rects1 = ax.bar([2], x[2], width, color='g', yerr=std[2], error_kw=dict(ecolor='k', lw=1, capsize=5, capthick=1))\n",
    "    plt.xticks([width/2.0,1+width/2.0,2+width/2.0], ('5', '10', '20'))\n",
    "    plt.title('Change in block shares (1 vs 20 latency)',fontsize=20)\n",
    "    plt.gca().set_position((.1, .3, .8, .6))\n",
    "    \n",
    "    figtext(.02, .06, caption)\n",
    "    plt.savefig(filename, dpi=200)\n",
    "    plt.clf()\n",
    "caption = \"Fully connected network of two 20% miners, three 10% miners and six 5% miners.\\n\\\n",
    "1000 simulations of 6 months.\\n\\\n",
    "Plot shows for each miner group the percentual difference between block shares in the 1\\nand 20 latency condition.\\\n",
    " Error bars indicate standard deviation.\"\n",
    "realistic_hashrates(data,'plots/realistic_hashrates.png', caption)"
   ]
  },
  {
   "cell_type": "markdown",
   "metadata": {
    "collapsed": true
   },
   "source": [
    "Small Block Miner\n",
    "---"
   ]
  },
  {
   "cell_type": "code",
   "execution_count": 10,
   "metadata": {
    "collapsed": true
   },
   "outputs": [],
   "source": [
    "data = numpy.loadtxt('shares_latency_all_small_miners.csv', skiprows=1, delimiter=',', usecols=(0,1))\n",
    "caption = \"Fully connected network of one 30% miner and seven 10% miners.\\\n",
    "The 10% miners \\nalways create 1 latency blocks.\\\n",
    " 1000 simulations of 6 months per condition: \\neither all of the big miner's blocks have 1 latency or 20 latency.\\n\\\n",
    "Plot shows the distribution of the fraction of blocks in the main chain that were\\nfrom the big miner.\"\n",
    "histogram(data, 'plots/histogram_small.png', caption)\n",
    "varying_latencies(data, 'plots/varying_latencies_small.png', caption)\n",
    "caption = \"Fully connected network of one 30% miner and seven 10% miners.\\n\\\n",
    " The 10% miners always create 1 latency blocks. 1000 simulations of 6 months per latency setting for the big miner.\\n\\\n",
    "Boxplot shows the fraction of blocks in the main chain that were from the big miner.\"\n",
    "data = numpy.loadtxt('shares_latency_realistic_small_miners.csv', skiprows=1, delimiter=',', usecols=(0,1,2))\n",
    "caption = \"Fully connected network of two 20% miners, three 10% miners and six 5% miners.\\n\\\n",
    "All but the 20% miners create 1 latency blocks. \\\n",
    "1000 simulations of 6 months.\\n\\\n",
    "Plot shows for each miner group the percentual difference between block shares \\nwhen the 20% miners create 1 vs 20 latency blocks.\\\n",
    " Error bars indicate standard deviation.\"\n",
    "realistic_hashrates(data,'plots/realistic_hashrates_small.png', caption)"
   ]
  },
  {
   "cell_type": "code",
   "execution_count": 11,
   "metadata": {
    "collapsed": false
   },
   "outputs": [
    {
     "ename": "TypeError",
     "evalue": "histogram() takes exactly 3 arguments (2 given)",
     "output_type": "error",
     "traceback": [
      "\u001b[1;31m---------------------------------------------------------------------------\u001b[0m",
      "\u001b[1;31mTypeError\u001b[0m                                 Traceback (most recent call last)",
      "\u001b[1;32m<ipython-input-11-037b35465620>\u001b[0m in \u001b[0;36m<module>\u001b[1;34m()\u001b[0m\n\u001b[0;32m      1\u001b[0m \u001b[0mdata\u001b[0m \u001b[1;33m=\u001b[0m \u001b[0mnumpy\u001b[0m\u001b[1;33m.\u001b[0m\u001b[0mloadtxt\u001b[0m\u001b[1;33m(\u001b[0m\u001b[1;34m'shares_latency_all_small_miners_40.csv'\u001b[0m\u001b[1;33m,\u001b[0m \u001b[0mskiprows\u001b[0m\u001b[1;33m=\u001b[0m\u001b[1;36m1\u001b[0m\u001b[1;33m,\u001b[0m \u001b[0mdelimiter\u001b[0m\u001b[1;33m=\u001b[0m\u001b[1;34m','\u001b[0m\u001b[1;33m,\u001b[0m \u001b[0musecols\u001b[0m\u001b[1;33m=\u001b[0m\u001b[1;33m(\u001b[0m\u001b[1;36m0\u001b[0m\u001b[1;33m,\u001b[0m\u001b[1;36m1\u001b[0m\u001b[1;33m)\u001b[0m\u001b[1;33m)\u001b[0m\u001b[1;33m\u001b[0m\u001b[0m\n\u001b[1;32m----> 2\u001b[1;33m \u001b[0mhistogram\u001b[0m\u001b[1;33m(\u001b[0m\u001b[0mdata\u001b[0m\u001b[1;33m,\u001b[0m \u001b[1;34m'plots/histogram_small_40.png'\u001b[0m\u001b[1;33m)\u001b[0m\u001b[1;33m\u001b[0m\u001b[0m\n\u001b[0m\u001b[0;32m      3\u001b[0m \u001b[0mvarying_latencies\u001b[0m\u001b[1;33m(\u001b[0m\u001b[0mdata\u001b[0m\u001b[1;33m,\u001b[0m \u001b[1;34m'plots/varying_latencies_small_40.png'\u001b[0m\u001b[1;33m)\u001b[0m\u001b[1;33m\u001b[0m\u001b[0m\n",
      "\u001b[1;31mTypeError\u001b[0m: histogram() takes exactly 3 arguments (2 given)"
     ]
    }
   ],
   "source": [
    "data = numpy.loadtxt('shares_latency_all_small_miners_40.csv', skiprows=1, delimiter=',', usecols=(0,1))\n",
    "#histogram(data, 'plots/histogram_small_40.png')\n",
    "#varying_latencies(data, 'plots/varying_latencies_small_40.png')"
   ]
  },
  {
   "cell_type": "code",
   "execution_count": null,
   "metadata": {
    "collapsed": true
   },
   "outputs": [],
   "source": []
  },
  {
   "cell_type": "code",
   "execution_count": null,
   "metadata": {
    "collapsed": true
   },
   "outputs": [],
   "source": []
  }
 ],
 "metadata": {
  "kernelspec": {
   "display_name": "Python 2",
   "language": "python",
   "name": "python2"
  },
  "language_info": {
   "codemirror_mode": {
    "name": "ipython",
    "version": 2
   },
   "file_extension": ".py",
   "mimetype": "text/x-python",
   "name": "python",
   "nbconvert_exporter": "python",
   "pygments_lexer": "ipython2",
   "version": "2.7.9"
  }
 },
 "nbformat": 4,
 "nbformat_minor": 0
}
