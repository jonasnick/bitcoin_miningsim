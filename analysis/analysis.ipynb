{
 "cells": [
  {
   "cell_type": "code",
   "execution_count": 1,
   "metadata": {
    "collapsed": true
   },
   "outputs": [],
   "source": [
    "#%matplotlib inline"
   ]
  },
  {
   "cell_type": "code",
   "execution_count": 2,
   "metadata": {
    "collapsed": true
   },
   "outputs": [],
   "source": [
    "from pylab import *\n",
    "import matplotlib.pyplot as plt\n",
    "import numpy"
   ]
  },
  {
   "cell_type": "markdown",
   "metadata": {},
   "source": [
    "All miners mine big blocks\n",
    "---"
   ]
  },
  {
   "cell_type": "code",
   "execution_count": 4,
   "metadata": {
    "collapsed": false
   },
   "outputs": [],
   "source": [
    "data = numpy.loadtxt('shares_latency_all.csv', skiprows=1, delimiter=',', usecols=(0,1))"
   ]
  },
  {
   "cell_type": "code",
   "execution_count": 5,
   "metadata": {
    "collapsed": true
   },
   "outputs": [],
   "source": [
    "def latency(data, i):\n",
    "    return np.array(map(lambda x: x[1], filter(lambda x: x[0] == i, data))).astype(float)"
   ]
  },
  {
   "cell_type": "code",
   "execution_count": 6,
   "metadata": {
    "collapsed": false
   },
   "outputs": [],
   "source": [
    "def histogram(data, filename, caption):\n",
    "    fig, ax = plt.subplots()\n",
    "    ax.set_ylabel('Number')\n",
    "    ax.set_xlabel('Blocks found (%)')\n",
    "    n, bins, patches = plt.hist( [latency(data, 1), latency(data, 20)], 10, rwidth=1, histtype='bar', label=['1 latency', '20 latency'])\n",
    "    plt.legend()\n",
    "    plt.xticks(bins, map(lambda x: round(x, 2), bins))\n",
    "    plt.tick_params('x', length=20, width=2, which='major', top='off', direction='inout', pad=15)\n",
    "    plt.axvline(latency(data, 1).mean(), color='k', linestyle='dashed', linewidth=2)\n",
    "    plt.axvline(latency(data, 20).mean(), color='k', linestyle='dashed', linewidth=2)\n",
    "    plt.title('Block shares histogram',fontsize=20)\n",
    "    plt.gca().set_position((.1, .3, .8, .6))\n",
    "    figtext(.02, .01, caption)\n",
    "    plt.savefig(filename, dpi=200)\n",
    "    plt.clf()\n",
    "caption = \"Fully connected network of one 30% miner and seven 10% miners.\\n\\\n",
    "1000 simulations of 6 months per condition: either all blocks have 1 latency or 20 latency.\\n\\\n",
    "Plot shows the distribution of the fraction of blocks in the main chain that were\\nfrom the big miner.\"\n",
    "histogram(data, 'plots/histogram.png', caption)"
   ]
  },
  {
   "cell_type": "code",
   "execution_count": 7,
   "metadata": {
    "collapsed": false
   },
   "outputs": [],
   "source": [
    "def varying_latencies(data, filename, caption):\n",
    "    plt.boxplot([latency(data, 1), latency(data, 5), latency(data, 10), latency(data, 20), latency(data, 30)])\n",
    "    plt.ylabel('Blocks found (%)')\n",
    "    plt.xlabel('Latency')\n",
    "    plt.xticks([1,2,3,4, 5],('1', '5', '10', '20', '30'))\n",
    "    plt.title('Block shares for varying latencies',fontsize=20)\n",
    "    plt.gca().set_position((.1, .3, .8, .6))\n",
    "    figtext(.02, .04, caption)\n",
    "    plt.savefig(filename, dpi=200)\n",
    "    plt.clf()\n",
    "caption = \"Fully connected network of one 30% miner and seven 10% miners.\\n\\\n",
    "1000 simulations of 6 months per latency condition.\\n\\\n",
    "Boxplot shows the fraction of blocks in the main chain that were from the big miner.\"\n",
    "varying_latencies(data, 'plots/varying_latencies.png', caption)"
   ]
  },
  {
   "cell_type": "code",
   "execution_count": 28,
   "metadata": {
    "collapsed": false
   },
   "outputs": [],
   "source": [
    "data = numpy.loadtxt('shares_latency_realistic.csv', skiprows=1, delimiter=',', usecols=(0,1,2))"
   ]
  },
  {
   "cell_type": "code",
   "execution_count": 29,
   "metadata": {
    "collapsed": false
   },
   "outputs": [],
   "source": [
    "def realistic_hashrates(data, filename, caption):\n",
    "    # mean normal: every miner under normal condition\n",
    "    # mean latency: 20 latency condition\n",
    "    meanNormal = {}\n",
    "    meanLatency = {}\n",
    "    for miner in data:\n",
    "        d = meanNormal\n",
    "        if miner[0] == 20:\n",
    "            d = meanLatency\n",
    "        if miner[1] in d:\n",
    "            d[miner[1]] = np.append(d[miner[1]], [miner[2]])\n",
    "        else: \n",
    "            d[miner[1]] = np.array([miner[2]])\n",
    "\n",
    "    x = map(lambda hashrate: ((meanLatency[hashrate] - meanNormal[hashrate])*100/meanNormal[hashrate]).mean(), [5, 10, 20])\n",
    "    std = map(lambda hashrate: ((meanLatency[hashrate] - meanNormal[hashrate].mean())*100/meanNormal[hashrate].mean()).std(), [5, 10, 20])\n",
    "    fig, ax = plt.subplots()\n",
    "    ax.set_ylabel('Blocks found (% change)')\n",
    "    ax.set_xlabel('Hashrate (%)')\n",
    "    width = 1\n",
    "    for i in range(3):\n",
    "        rects1 = ax.bar([i], x[i], width, color='r' if x[i] < 0 else 'g', yerr=std[i], error_kw=dict(ecolor='k', lw=1, capsize=5, capthick=1))\n",
    "    plt.xticks([width/2.0,1+width/2.0,2+width/2.0], ('5', '10', '20'))\n",
    "    plt.title('Change in block shares (1 vs 20 latency)',fontsize=20)\n",
    "    plt.gca().set_position((.1, .3, .8, .6))\n",
    "    \n",
    "    figtext(.02, .06, caption)\n",
    "    plt.savefig(filename, dpi=200)\n",
    "    plt.clf()\n",
    "caption = \"Fully connected network of two 20% miners, three 10% miners and six 5% miners.\\n\\\n",
    "1000 simulations of 6 months.\\n\\\n",
    "Plot shows for each miner group the percentual difference between block shares in the 1\\nand 20 latency condition.\\\n",
    " Error bars indicate standard deviation.\"\n",
    "realistic_hashrates(data,'plots/realistic_hashrates.png', caption)"
   ]
  },
  {
   "cell_type": "markdown",
   "metadata": {
    "collapsed": true
   },
   "source": [
    "Only big miner mines big blocks\n",
    "---"
   ]
  },
  {
   "cell_type": "code",
   "execution_count": 30,
   "metadata": {
    "collapsed": false
   },
   "outputs": [],
   "source": [
    "data = numpy.loadtxt('shares_latency_all_small_miners.csv', skiprows=1, delimiter=',', usecols=(0,1))\n",
    "caption = \"Fully connected network of one 30% miner and seven 10% miners.\\\n",
    "The 10% miners \\nalways create 1 latency blocks.\\\n",
    " 1000 simulations of 6 months per condition: \\neither all of the big miner's blocks have 1 latency or 20 latency.\\n\\\n",
    "Plot shows the distribution of the fraction of blocks in the main chain that were\\nfrom the big miner.\"\n",
    "histogram(data, 'plots/histogram_small.png', caption)\n",
    "varying_latencies(data, 'plots/varying_latencies_small.png', caption)\n",
    "caption = \"Fully connected network of one 30% miner and seven 10% miners.\\n\\\n",
    " The 10% miners always create 1 latency blocks. 1000 simulations of 6 months per latency setting for the big miner.\\n\\\n",
    "Boxplot shows the fraction of blocks in the main chain that were from the big miner.\"\n",
    "data = numpy.loadtxt('shares_latency_realistic_small_miners.csv', skiprows=1, delimiter=',', usecols=(0,1,2))\n",
    "caption = \"Fully connected network of two 20% miners, three 10% miners and six 5% miners.\\n\\\n",
    "All but the 20% miners create 1 latency blocks. \\\n",
    "1000 simulations of 6 months.\\n\\\n",
    "Plot shows for each miner group the percentual difference between block shares \\nwhen the 20% miners create 1 vs 20 latency blocks.\\\n",
    " Error bars indicate standard deviation.\"\n",
    "realistic_hashrates(data,'plots/realistic_hashrates_small.png', caption)"
   ]
  },
  {
   "cell_type": "code",
   "execution_count": 31,
   "metadata": {
    "collapsed": false
   },
   "outputs": [],
   "source": [
    "data = numpy.loadtxt('shares_latency_all_small_miners_40.csv', skiprows=1, delimiter=',', usecols=(0,1))\n",
    "caption = \"Fully connected network of one 40% miner and six 10% miners.\\\n",
    "The 10% miners \\nalways create 1 latency blocks.\\\n",
    " 1000 simulations of 6 months per condition: \\neither all of the big miner's blocks have 1 latency or 20 latency.\\n\\\n",
    "Plot shows the distribution of the fraction of blocks in the main chain that were\\nfrom the big miner.\"\n",
    "histogram(data, 'plots/histogram_small_40.png', caption)\n",
    "varying_latencies(data, 'plots/varying_latencies_small_40.png', caption)"
   ]
  },
  {
   "cell_type": "code",
   "execution_count": 32,
   "metadata": {
    "collapsed": true
   },
   "outputs": [],
   "source": [
    "data = numpy.loadtxt('shares_latency_all_small_miners_40_selective.csv', skiprows=1, delimiter=',', usecols=(0,1))\n",
    "caption = \"Fully connected network of one 40% miner and six 10% miners.\\\n",
    "The 10% miners \\nalways create 1 latency blocks.\\\n",
    " 1000 simulations of 6 months per condition: \\neither all of the big miner's blocks have 1 latency or 20 latency.\\n\\\n",
    "Plot shows the distribution of the fraction of blocks in the main chain that were\\nfrom the big miner.\"\n",
    "histogram(data, 'plots/histogram_small_40_selective.png', caption)\n",
    "varying_latencies(data, 'plots/varying_latencies_small_40_selective.png', caption)"
   ]
  },
  {
   "cell_type": "markdown",
   "metadata": {},
   "source": [
    "Subset of Badly Connected Nodes\n",
    "---"
   ]
  },
  {
   "cell_type": "code",
   "execution_count": 3,
   "metadata": {
    "collapsed": false
   },
   "outputs": [],
   "source": [
    "data = numpy.loadtxt('shares_latency_badly_connected_big_blocks.csv', skiprows=1, delimiter=',', usecols=(0,1,2))"
   ]
  },
  {
   "cell_type": "code",
   "execution_count": 38,
   "metadata": {
    "collapsed": false
   },
   "outputs": [],
   "source": [
    "def badly_connected(data, filename, caption):\n",
    "    meanGoodConnection = {}\n",
    "    meanBadConnection = {}\n",
    "    nGoodConnection = 2\n",
    "    for miner in data:\n",
    "        d = meanBadConnection\n",
    "        if miner[1] < nGoodConnection:\n",
    "            d = meanGoodConnection\n",
    "        if miner[0] in d:\n",
    "            d[miner[0]] = np.append(d[miner[0]], [miner[2]])\n",
    "        else: \n",
    "            d[miner[0]] = np.array([miner[2]])\n",
    "\n",
    "    x = map(lambda d: (d[20].mean() - d[1].mean())*100/d[1].mean(), [meanGoodConnection, meanBadConnection])\n",
    "    std = map(lambda d: ((d[20] - d[1])/d[1]*100).std(), [meanGoodConnection, meanBadConnection])\n",
    "    fig, ax = plt.subplots()\n",
    "    ax.set_ylabel('Blocks found (% change)')\n",
    "    ax.set_xlabel('Connection')\n",
    "    width = 1\n",
    "    for i in range(2):\n",
    "        rects1 = ax.bar([i], x[i], width, color='r' if x[i] < 0 else 'g', yerr=std[i], error_kw=dict(ecolor='k', lw=1, capsize=5, capthick=1))\n",
    "    #rects1 = ax.bar([1], x[1], width, color='r', yerr=std[1], error_kw=dict(ecolor='k', lw=1, capsize=5, capthick=1))\n",
    "    #rects1 = ax.bar([2], x[2], width, color='g', yerr=std[2], error_kw=dict(ecolor='k', lw=1, capsize=5, capthick=1))\n",
    "    plt.xticks([width/2.0,1+width/2.0], ('well connected', 'badly connected'))\n",
    "    plt.title('Change in block shares (1 vs 20 latency)',fontsize=20)\n",
    "    plt.gca().set_position((.1, .3, .8, .6))\n",
    "    \n",
    "    figtext(.02, .06, caption)\n",
    "    #plt.show()\n",
    "    plt.savefig(filename, dpi=200)\n",
    "    plt.clf()"
   ]
  },
  {
   "cell_type": "code",
   "execution_count": 47,
   "metadata": {
    "collapsed": false
   },
   "outputs": [],
   "source": [
    "caption = \"Fully connected network of five 20% miners.\\n\\\n",
    "60% of hashrate is well connected to each other but the rest is poorly connected\\n(+100s latency).\\\n",
    "Well connected miners always produce 1 latency blocks.\\n\\\n",
    "Plot shows for each miner groupthe percentual difference between block shares \\nwhen the badly connected miners create 1 vs 20 latency blocks.\\\n",
    "\\nError bars indicate standard deviation.100 simulations of 1 year.\"\n",
    "badly_connected(data, 'plots/badly_connected_big_blocks.png', caption)"
   ]
  },
  {
   "cell_type": "markdown",
   "metadata": {},
   "source": [
    "Sipa's Scenario\n",
    "---"
   ]
  },
  {
   "cell_type": "code",
   "execution_count": 34,
   "metadata": {
    "collapsed": true
   },
   "outputs": [],
   "source": [
    "data = numpy.loadtxt('shares_latency_sipa.csv', skiprows=1, delimiter=',', usecols=(0,1,2))"
   ]
  },
  {
   "cell_type": "code",
   "execution_count": 35,
   "metadata": {
    "collapsed": false
   },
   "outputs": [],
   "source": [
    "def sipa(data, filename, caption):\n",
    "    nMiners = 7\n",
    "    shares = []\n",
    "    for i in range(nMiners):\n",
    "        shares += [{}]\n",
    "    \n",
    "    for miner in data:\n",
    "        d = shares[int(miner[1])]\n",
    "        if miner[0] in d:\n",
    "            d[miner[0]] = np.append(d[miner[0]], [miner[2]])\n",
    "        else: \n",
    "            d[miner[0]] = np.array([miner[2]])\n",
    "\n",
    "    x = map(lambda d: (d[20].mean() - d[1].mean())*100/d[1].mean(), shares)\n",
    "    std = map(lambda d: ((d[20] - d[1].mean())/d[1].mean()*100).std(), shares)\n",
    "    fig, ax = plt.subplots()\n",
    "    ax.set_ylabel('Blocks found (% change)')\n",
    "    ax.set_xlabel('Miner')\n",
    "    width = 1\n",
    "    for i in range(7):\n",
    "        rects1 = ax.bar([i], x[i], width, color='r' if x[i] < 0 else 'g', yerr=std[i], error_kw=dict(ecolor='k', lw=1, capsize=5, capthick=1))\n",
    "    #rects1 = ax.bar([1], x[1], width, color='r', yerr=std[1], error_kw=dict(ecolor='k', lw=1, capsize=5, capthick=1))\n",
    "    #rects1 = ax.bar([2], x[2], width, color='g', yerr=std[2], error_kw=dict(ecolor='k', lw=1, capsize=5, capthick=1))\n",
    "    plt.xticks(map(lambda x: width/2.0+x, range(nMiners)), map(lambda x: str(x), range(nMiners)))\n",
    "    plt.title('Change in block shares (1 vs 20 latency)',fontsize=20)\n",
    "    plt.gca().set_position((.1, .3, .8, .6))\n",
    "    \n",
    "    figtext(.02, .03, caption)\n",
    "    #plt.show()\n",
    "    plt.savefig(filename, dpi=200)\n",
    "    plt.clf()"
   ]
  },
  {
   "cell_type": "code",
   "execution_count": 36,
   "metadata": {
    "collapsed": false
   },
   "outputs": [],
   "source": [
    "sipa(data, 'plots/sipa.png', \n",
    "'Two groups of miners. First 35%, 2x20%, Second 4x0.05%.\\n\\\n",
    "Groups are well-connected internally, but are only connected\\n\\\n",
    "to each other with a poor connection (+100s latency) between miner 0 and 3.\\n\\\n",
    "Plot shows for each miner group the percentual difference between block shares\\n\\\n",
    "when the miners in the big group create 1 vs 20 latency blocks.\\\n",
    "\\nError bars indicate standard deviation.100 simulations of 1 year.')"
   ]
  },
  {
   "cell_type": "code",
   "execution_count": 41,
   "metadata": {
    "collapsed": false
   },
   "outputs": [],
   "source": [
    "data = numpy.loadtxt('shares_latency_sipa_traitor.csv', skiprows=1, delimiter=',', usecols=(0,1,2))\n",
    "sipa(data, 'plots/sipa_traitor.png', \n",
    "'Two groups of miners. First 35%, 2x20%, Second 4x0.05%.Groups are well-connected\\n\\\n",
    "internally, but are only connected to each other with a poor connection (+100s latency)\\n\\\n",
    "between miner 0 and 3 and between 1 and 4.Plot shows for each miner group the\\n\\\n",
    "percentual difference between block shares when the miners in the big group\\n\\\n",
    "create 1 vs 20 latency blocks.Error bars indicate standard deviation.\\n\\\n",
    "100 simulations of 1 year.')"
   ]
  },
  {
   "cell_type": "code",
   "execution_count": null,
   "metadata": {
    "collapsed": true
   },
   "outputs": [],
   "source": []
  }
 ],
 "metadata": {
  "kernelspec": {
   "display_name": "Python 2",
   "language": "python",
   "name": "python2"
  },
  "language_info": {
   "codemirror_mode": {
    "name": "ipython",
    "version": 2
   },
   "file_extension": ".py",
   "mimetype": "text/x-python",
   "name": "python",
   "nbconvert_exporter": "python",
   "pygments_lexer": "ipython2",
   "version": "2.7.9"
  }
 },
 "nbformat": 4,
 "nbformat_minor": 0
}
